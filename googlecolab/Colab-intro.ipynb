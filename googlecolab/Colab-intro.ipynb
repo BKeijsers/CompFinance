{
  "nbformat": 4,
  "nbformat_minor": 0,
  "metadata": {
    "colab": {
      "name": "Colab-intro.ipynb",
      "provenance": [],
      "collapsed_sections": [],
      "include_colab_link": true
    },
    "kernelspec": {
      "name": "python3",
      "display_name": "Python 3"
    }
  },
  "cells": [
    {
      "cell_type": "markdown",
      "metadata": {
        "id": "view-in-github",
        "colab_type": "text"
      },
      "source": [
        "<a href=\"https://colab.research.google.com/github/BKeijsers/CompFinance/blob/master/Colab-intro.ipynb\" target=\"_parent\"><img src=\"https://colab.research.google.com/assets/colab-badge.svg\" alt=\"Open In Colab\"/></a>"
      ]
    },
    {
      "cell_type": "markdown",
      "metadata": {
        "id": "5T8M_cMvzRcp",
        "colab_type": "text"
      },
      "source": [
        "# Introduction to Google Colab\n",
        "\n",
        "This introduction covers the following to get started with Google Colab. It covers the following topics:\n",
        "* Mounting a drive\n",
        "* Changing the working directory\n",
        "* Importing notebooks Google Colab\n",
        "* Installing packages and importing modules\n",
        "\n",
        "A more elaborate discussion on these topics is available here (by Google): https://colab.research.google.com/notebooks/io.ipynb\n"
      ]
    },
    {
      "cell_type": "markdown",
      "metadata": {
        "id": "RZaqKQmdTpU2",
        "colab_type": "text"
      },
      "source": [
        "## Mounting your drive\n",
        "\n",
        "When working with Google Colab, you may want to work with local files, e.g. access excel files holding data on your Google Drive. To access files on a drive, you need to mount it first. NOTE: From my experience so far, it seems that you need to do this each time you start Google Colab.\n",
        "\n",
        "The code below is an example on how you can do this."
      ]
    },
    {
      "cell_type": "code",
      "metadata": {
        "id": "ScfudnJhz_yw",
        "colab_type": "code",
        "colab": {}
      },
      "source": [
        "from google.colab import drive\n",
        "drive.mount('/content/gdrive')"
      ],
      "execution_count": 0,
      "outputs": []
    },
    {
      "cell_type": "markdown",
      "metadata": {
        "id": "CBBX7n_qZTDB",
        "colab_type": "text"
      },
      "source": [
        "## Changing the working directory\n",
        "\n",
        "It is not necessary, but convenient to change the *working directory* to the one you are working from, i.e. the folder that holds your notebooks (`.ipynb` files) and data. Then you can simply refer to the file directly instead of having to add the *path* in front of it. \n",
        "\n",
        "In the example below, we change the directory to the 'Colab Notebooks' directory, which is a folder in my Google Drive: the name 'My Drive' refers to the main Google Drive folder (this is the same for everyone). You can change the part *after* `/content/gdrive/My Drive/` to select the folder that you want as your working directory. This is probably the folder that hold your notebook and data files."
      ]
    },
    {
      "cell_type": "code",
      "metadata": {
        "id": "tz1eATjh2PDX",
        "colab_type": "code",
        "colab": {}
      },
      "source": [
        "import os\n",
        "path = '/content/gdrive/My Drive/Colab Notebooks/'    # change path to your working directory\n",
        "os.chdir(path)"
      ],
      "execution_count": 0,
      "outputs": []
    },
    {
      "cell_type": "markdown",
      "metadata": {
        "id": "bwDISqwIocfC",
        "colab_type": "text"
      },
      "source": [
        "An alternative using bash, where you do not have to import a package"
      ]
    },
    {
      "cell_type": "code",
      "metadata": {
        "id": "zIKG9XFxobvI",
        "colab_type": "code",
        "colab": {}
      },
      "source": [
        "%cd '/content/gdrive/My Drive/Colab Notebooks/'    # change path to your working directory"
      ],
      "execution_count": 0,
      "outputs": []
    },
    {
      "cell_type": "markdown",
      "metadata": {
        "id": "qK8Wt2-2_0Nd",
        "colab_type": "text"
      },
      "source": [
        "## Importing notebooks to Google Colab\n",
        "\n",
        "Importing notebooks (`.ipynb` files) to Google Colab can be done in at least two ways:\n",
        "1. Open Google Colab, Press `File` in the top menu and select `Upload notebook...`. A pop-up menu will appear which where you need to select the notebook from your local computer.\n",
        "2. Add notebook to your Google Drive folder. You can then open it, by right-clicking and selecting `Open with > Google Colab`. You should also be able to find the file from Google Colab directly after adding it to your Google Drive."
      ]
    },
    {
      "cell_type": "markdown",
      "metadata": {
        "id": "KyT2l5-qUhvc",
        "colab_type": "text"
      },
      "source": [
        "## Installing packages and importing modules"
      ]
    },
    {
      "cell_type": "markdown",
      "metadata": {
        "id": "ZoEsjRV3onZj",
        "colab_type": "text"
      },
      "source": [
        "Running the code below installs the `arch` package (it holds functionality on estimating univariate conditional heteroskedasticity model). You need to install a package only once. Now you can use it in your notebooks by importing it, i.e. use `import arch`."
      ]
    },
    {
      "cell_type": "code",
      "metadata": {
        "id": "NlQ3o9qPqC_p",
        "colab_type": "code",
        "colab": {}
      },
      "source": [
        "!pip install arch"
      ],
      "execution_count": 0,
      "outputs": []
    },
    {
      "cell_type": "markdown",
      "metadata": {
        "id": "-GuQIhsghWVE",
        "colab_type": "text"
      },
      "source": [
        "Note that we use `pip` instead of `conda`. This is because we do not have "
      ]
    },
    {
      "cell_type": "markdown",
      "metadata": {
        "id": "P7rIVKR1o4yb",
        "colab_type": "text"
      },
      "source": [
        "Running below imports the module `math`. After importing a module or package, we can call/use the modules' functions in the notebook. "
      ]
    },
    {
      "cell_type": "code",
      "metadata": {
        "id": "3UD1houo1x0I",
        "colab_type": "code",
        "colab": {}
      },
      "source": [
        "import math"
      ],
      "execution_count": 0,
      "outputs": []
    },
    {
      "cell_type": "code",
      "metadata": {
        "id": "vOI2WG_6quah",
        "colab_type": "code",
        "colab": {}
      },
      "source": [
        "math.sqrt(2.0)"
      ],
      "execution_count": 0,
      "outputs": []
    },
    {
      "cell_type": "markdown",
      "metadata": {
        "id": "LWS-jr4yqNnG",
        "colab_type": "text"
      },
      "source": [
        "Running the cell below imports the package `pandas`. The part `as pd` implies that we can refer to using using the abbreviation `pd` rather than writing out `pandas` in full each time we need a function from pandas. Hence, using this abbreviation shortens our code and allows us to write code more efficiently. Note that it is actually convention to import pandas as pd. So other will recognize the abbreviation."
      ]
    },
    {
      "cell_type": "code",
      "metadata": {
        "id": "OOqqT-waqs7g",
        "colab_type": "code",
        "colab": {}
      },
      "source": [
        "import pandas as pd"
      ],
      "execution_count": 0,
      "outputs": []
    },
    {
      "cell_type": "code",
      "metadata": {
        "id": "ID7UuTDyq0yo",
        "colab_type": "code",
        "colab": {}
      },
      "source": [
        "pd.isnull([0, None, 3])"
      ],
      "execution_count": 0,
      "outputs": []
    }
  ]
}
